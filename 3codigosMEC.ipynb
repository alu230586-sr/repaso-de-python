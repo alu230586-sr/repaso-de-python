{
  "nbformat": 4,
  "nbformat_minor": 0,
  "metadata": {
    "colab": {
      "provenance": [],
      "authorship_tag": "ABX9TyNc6gnZbwbG+HqBEeoHS/0d",
      "include_colab_link": true
    },
    "kernelspec": {
      "name": "python3",
      "display_name": "Python 3"
    },
    "language_info": {
      "name": "python"
    }
  },
  "cells": [
    {
      "cell_type": "markdown",
      "metadata": {
        "id": "view-in-github",
        "colab_type": "text"
      },
      "source": [
        "<a href=\"https://colab.research.google.com/github/alu230586-sr/repaso-de-python/blob/main/3codigosMEC.ipynb\" target=\"_parent\"><img src=\"https://colab.research.google.com/assets/colab-badge.svg\" alt=\"Open In Colab\"/></a>"
      ]
    },
    {
      "cell_type": "markdown",
      "source": [
        "# Nueva sección"
      ],
      "metadata": {
        "id": "nQ8_dU2yAygS"
      }
    },
    {
      "cell_type": "markdown",
      "source": [
        "realizar un programa en python que te permita capturar 3 numeros enteros e imprima cual de los 3 es mayor"
      ],
      "metadata": {
        "id": "KH9Pdh8mA1za"
      }
    },
    {
      "cell_type": "code",
      "source": [
        "num1 =int(input(\"ingrese el primer numero\"))\n",
        "num2=int(input(\"ingrese el segundo numero\"))\n",
        "num3=int(input(\"ingrese el tercer numero\"))\n",
        "if num1>num2 and num1<num3:\n",
        "  print(\"El primer numero es mayor\")\n",
        "elif num2>num1 and num2>num3:\n",
        "  print(\"El segundo numero es mayor\")\n",
        "else:\n",
        "  print(\"El tercer numero es mayor\")"
      ],
      "metadata": {
        "colab": {
          "base_uri": "https://localhost:8080/"
        },
        "id": "bM6zmJ-tFzEs",
        "outputId": "54631671-4848-4b33-abdd-afde115a2866"
      },
      "execution_count": 11,
      "outputs": [
        {
          "output_type": "stream",
          "name": "stdout",
          "text": [
            "ingrese el primer numero5\n",
            "ingrese el segundo numero6\n",
            "ingrese el tercer numero9\n",
            "El tercer numero es mayor\n"
          ]
        }
      ]
    },
    {
      "cell_type": "markdown",
      "source": [
        "realizar un  programa en python mediante el cual calcules el total de caracteres que tiene un nombre capturado desde el teclado"
      ],
      "metadata": {
        "id": "2MijW2yZAwHN"
      }
    },
    {
      "cell_type": "code",
      "source": [
        "nombre=input(\"ingrese su nombre\")\n",
        "print(\"el nombre tiene\",len(nombre),\"caracteres\")\n",
        "numero_caracteres=len(nombre)\n",
        "print(numero_caracteres)"
      ],
      "metadata": {
        "colab": {
          "base_uri": "https://localhost:8080/"
        },
        "id": "mtn68Iy4Gbop",
        "outputId": "716cd052-9b57-4f7f-d91c-815faa55a2e5"
      },
      "execution_count": 13,
      "outputs": [
        {
          "output_type": "stream",
          "name": "stdout",
          "text": [
            "ingrese su nombremonse\n",
            "el nombre tiene 5 caracteres\n",
            "5\n"
          ]
        }
      ]
    },
    {
      "cell_type": "markdown",
      "source": [],
      "metadata": {
        "id": "y3TvMFykFQtO"
      }
    },
    {
      "cell_type": "code",
      "source": [
        "respuesta=input(\"desea imprimir los dias de la semana? si o no:\")\n",
        "if respuesta==\"si\":\n",
        "  print(\"lunes\")\n",
        "  print(\"martes\")\n",
        "  print(\"miercoles\")\n",
        "  print(\"jueves\")\n",
        "  print(\"viernes\")\n",
        "  print(\"sabado\")\n",
        "  print(\"domingo\")\n",
        "else:\n",
        "    print(\"fin del programa\")"
      ],
      "metadata": {
        "id": "w944EdY6HXCm"
      },
      "execution_count": null,
      "outputs": []
    }
  ]
}