{
  "nbformat": 4,
  "nbformat_minor": 0,
  "metadata": {
    "colab": {
      "provenance": [],
      "authorship_tag": "ABX9TyPfaePZHLE/aBtsnFzenJ8q",
      "include_colab_link": true
    },
    "kernelspec": {
      "name": "python3",
      "display_name": "Python 3"
    },
    "language_info": {
      "name": "python"
    }
  },
  "cells": [
    {
      "cell_type": "markdown",
      "metadata": {
        "id": "view-in-github",
        "colab_type": "text"
      },
      "source": [
        "<a href=\"https://colab.research.google.com/github/alu230586-sr/repaso-de-python/blob/main/MonseEC.ipynb\" target=\"_parent\"><img src=\"https://colab.research.google.com/assets/colab-badge.svg\" alt=\"Open In Colab\"/></a>"
      ]
    },
    {
      "cell_type": "code",
      "execution_count": 1,
      "metadata": {
        "colab": {
          "base_uri": "https://localhost:8080/"
        },
        "id": "RjALsmp4-_Ay",
        "outputId": "32c10e02-9933-4fe5-8614-4dbf84c368d5"
      },
      "outputs": [
        {
          "output_type": "stream",
          "name": "stdout",
          "text": [
            "Tu nombre es: monse\n",
            "¡Bienvenido/a, monse!\n"
          ]
        }
      ],
      "source": [
        "nombre = input(\"Tu nombre es: \")\n",
        "print(f\"¡Bienvenido/a, {nombre}!\")"
      ]
    },
    {
      "cell_type": "code",
      "metadata": {
        "colab": {
          "base_uri": "https://localhost:8080/"
        },
        "id": "fab0aac0",
        "outputId": "1cba6c69-d2b4-4fff-984a-974e75b4a7a8"
      },
      "source": [
        "# Capturar los dos números enteros\n",
        "numero1 = int(input(\"Introduce el primer número entero: \"))\n",
        "numero2 = int(input(\"Introduce el segundo número entero: \"))\n",
        "\n",
        "# Calcular la suma, resta y multiplicación\n",
        "suma = numero1 + numero2\n",
        "resta = numero1 - numero2\n",
        "multiplicacion = numero1 * numero2\n",
        "\n",
        "# Imprimir los resultados\n",
        "print(f\"La suma es: {suma}\")\n",
        "print(f\"La resta es: {resta}\")\n",
        "print(f\"La multiplicación es: {multiplicacion}\")"
      ],
      "execution_count": 3,
      "outputs": [
        {
          "output_type": "stream",
          "name": "stdout",
          "text": [
            "Introduce el primer número entero: 3\n",
            "Introduce el segundo número entero: 4\n",
            "La suma es: 7\n",
            "La resta es: -1\n",
            "La multiplicación es: 12\n"
          ]
        }
      ]
    }
  ]
}